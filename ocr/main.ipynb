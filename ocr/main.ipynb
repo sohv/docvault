{
 "cells": [
  {
   "cell_type": "code",
   "execution_count": 5,
   "metadata": {},
   "outputs": [
    {
     "name": "stdout",
     "output_type": "stream",
     "text": [
      "Collecting pytesseract\n",
      "  Downloading pytesseract-0.3.13-py3-none-any.whl (14 kB)\n",
      "Requirement already satisfied: packaging>=21.3 in /Users/sohan/.pyenv/versions/3.10.12/lib/python3.10/site-packages (from pytesseract) (24.1)\n",
      "Requirement already satisfied: Pillow>=8.0.0 in /Users/sohan/.pyenv/versions/3.10.12/lib/python3.10/site-packages (from pytesseract) (10.4.0)\n",
      "Installing collected packages: pytesseract\n",
      "Successfully installed pytesseract-0.3.13\n",
      "\n",
      "\u001b[1m[\u001b[0m\u001b[34;49mnotice\u001b[0m\u001b[1;39;49m]\u001b[0m\u001b[39;49m A new release of pip is available: \u001b[0m\u001b[31;49m23.0.1\u001b[0m\u001b[39;49m -> \u001b[0m\u001b[32;49m24.3.1\u001b[0m\n",
      "\u001b[1m[\u001b[0m\u001b[34;49mnotice\u001b[0m\u001b[1;39;49m]\u001b[0m\u001b[39;49m To update, run: \u001b[0m\u001b[32;49mpip install --upgrade pip\u001b[0m\n",
      "Requirement already satisfied: opencv-python in /Users/sohan/.pyenv/versions/3.10.12/lib/python3.10/site-packages (4.10.0.84)\n",
      "Requirement already satisfied: numpy>=1.17.0 in /Users/sohan/.pyenv/versions/3.10.12/lib/python3.10/site-packages (from opencv-python) (1.26.4)\n",
      "\n",
      "\u001b[1m[\u001b[0m\u001b[34;49mnotice\u001b[0m\u001b[1;39;49m]\u001b[0m\u001b[39;49m A new release of pip is available: \u001b[0m\u001b[31;49m23.0.1\u001b[0m\u001b[39;49m -> \u001b[0m\u001b[32;49m24.3.1\u001b[0m\n",
      "\u001b[1m[\u001b[0m\u001b[34;49mnotice\u001b[0m\u001b[1;39;49m]\u001b[0m\u001b[39;49m To update, run: \u001b[0m\u001b[32;49mpip install --upgrade pip\u001b[0m\n",
      "Requirement already satisfied: Pillow in /Users/sohan/.pyenv/versions/3.10.12/lib/python3.10/site-packages (10.4.0)\n",
      "\n",
      "\u001b[1m[\u001b[0m\u001b[34;49mnotice\u001b[0m\u001b[1;39;49m]\u001b[0m\u001b[39;49m A new release of pip is available: \u001b[0m\u001b[31;49m23.0.1\u001b[0m\u001b[39;49m -> \u001b[0m\u001b[32;49m24.3.1\u001b[0m\n",
      "\u001b[1m[\u001b[0m\u001b[34;49mnotice\u001b[0m\u001b[1;39;49m]\u001b[0m\u001b[39;49m To update, run: \u001b[0m\u001b[32;49mpip install --upgrade pip\u001b[0m\n"
     ]
    }
   ],
   "source": [
    "!pip install pytesseract\n",
    "!pip install opencv-python\n",
    "!pip install Pillow "
   ]
  },
  {
   "cell_type": "code",
   "execution_count": 6,
   "metadata": {},
   "outputs": [],
   "source": [
    "import pytesseract\n",
    "import cv2\n",
    "from PIL import Image"
   ]
  },
  {
   "cell_type": "code",
   "execution_count": 7,
   "metadata": {},
   "outputs": [],
   "source": [
    "pytesseract.pytesseract.tesseract_cmd = r'/opt/homebrew/bin/tesseract'"
   ]
  },
  {
   "cell_type": "code",
   "execution_count": 9,
   "metadata": {},
   "outputs": [],
   "source": [
    "# function to read image\n",
    "def perform_ocr(image_path):\n",
    "    \"\"\"\n",
    "    Perform OCR on an image file\n",
    "    \n",
    "    Args:\n",
    "        image_path (str): Path to the image file\n",
    "        \n",
    "    Returns:\n",
    "        str: Extracted text from the image\n",
    "    \"\"\"\n",
    "\n",
    "    image = cv2.imread(image_path)\n",
    "    image = cv2.cvtColor(image, cv2.COLOR_BGR2RGB)\n",
    "    \n",
    "    # preprocessing\n",
    "    gray = cv2.cvtColor(image, cv2.COLOR_RGB2GRAY)\n",
    "    \n",
    "    # apply thresholding\n",
    "    threshold = cv2.threshold(gray, 0, 255, cv2.THRESH_BINARY + cv2.THRESH_OTSU)[1]\n",
    "    \n",
    "    # perform OCR\n",
    "    text = pytesseract.image_to_string(threshold)\n",
    "    \n",
    "    return text"
   ]
  },
  {
   "cell_type": "code",
   "execution_count": 11,
   "metadata": {},
   "outputs": [
    {
     "name": "stdout",
     "output_type": "stream",
     "text": [
      "Extracted text:\n",
      "and taking effective correctiy i\n",
      "aol it may be difficult to achieve the moje 2 Project gets too far out of\n",
      "she SCOPE: budget, schedule, or quality. Ject objective without sacrificing\n",
      "uughout a project, some activities w\n",
      "be finished ahead of schedule, and others\n",
      "Accoal enone faste\n",
      "sched e of the remaining, uncompleted activities of ject. Speci\n",
      "ie actual finish times (AFs) of completed activities wih are tas eaice\n",
      "stat\n",
      "\n",
      "and earliest finish times for the remaining activities in the network diagram,\n",
      "as well as the total slack.\n",
      "\n",
      "ill be completed on time, some will\n",
      "\n",
      "‘ will be finished Jater than scheduled.\n",
      "r or slower than planned—will have an effect on\n",
      "\n",
      "Throughout a project, changes may occur that have an impact on the\n",
      "_ These changes might be initiated by the customer or the project team,\n",
      "or they might be the result of an unanticipated occurrence. Any type of\n",
      "\n",
      "er initiated by the customer, the contractor, the project man-\n",
      "ticipated even\n",
      "a team member, or an unanticip\n",
      "\n",
      "t—will require a modification to\n",
      "-n terms of scope, budget, and/or schedule. When such changes are\n",
      "ey upon, a new baseline plan is established and used as the benchmark\n",
      "\n",
      ". . tual project rformance will be compared. S\n",
      "seine whi | have been Cillected on the actual finish times of completed\n",
      "a ete of any pres tare: ed es\n",
      "\n",
      "\n"
     ]
    }
   ],
   "source": [
    "if __name__ == \"__main__\":\n",
    "    # Replace with your image path\n",
    "    image_path = \"/Users/sohan/Documents/dms/images/image1.png\"\n",
    "    try:\n",
    "        extracted_text = perform_ocr(image_path)\n",
    "        print(\"Extracted text:\")\n",
    "        print(extracted_text)\n",
    "    except Exception as e:\n",
    "        print(f\"An error occurred: {str(e)}\")"
   ]
  },
  {
   "cell_type": "code",
   "execution_count": null,
   "metadata": {},
   "outputs": [],
   "source": []
  }
 ],
 "metadata": {
  "kernelspec": {
   "display_name": "Python 3",
   "language": "python",
   "name": "python3"
  },
  "language_info": {
   "codemirror_mode": {
    "name": "ipython",
    "version": 3
   },
   "file_extension": ".py",
   "mimetype": "text/x-python",
   "name": "python",
   "nbconvert_exporter": "python",
   "pygments_lexer": "ipython3",
   "version": "3.10.12"
  }
 },
 "nbformat": 4,
 "nbformat_minor": 2
}
